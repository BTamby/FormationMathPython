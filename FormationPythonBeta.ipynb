{
 "cells": [
  {
   "cell_type": "code",
   "execution_count": 5,
   "metadata": {},
   "outputs": [
    {
     "data": {
      "text/html": [
       "<style>\n",
       "body{\n",
       "    color : #ff0;\n",
       "    font-family : Helvetica;\n",
       "}\n",
       "\n",
       "h1{\n",
       "    display : inline-block;\n",
       "    width : 100%;\n",
       "    height : 50px;\n",
       "    text-align : center;\n",
       "    color : #f00000;\n",
       "    background : #a4a4a4;\n",
       "    \n",
       "}\n",
       "h2{\n",
       "    color : #00f;\n",
       "}\n",
       "h3{\n",
       "    color : #f544ff;\n",
       "}\n",
       ".para h2 > li{\n",
       "    list-style-type : upper-roman;\n",
       "}\n",
       ".haut{\n",
       "    display : block;\n",
       "    text-align : right;\n",
       "}\n",
       "#officiel{\n",
       "    background-color : #eee;\n",
       "    color : #0020ff;\n",
       "}\n",
       "#tableau{\n",
       "    display : table;\n",
       "    width = 100%;\n",
       "}\n",
       "#contenus{\n",
       "    dipalay : table-cell;\n",
       "    width : 10%;}\n",
       "#capacites{\n",
       "    display : table-cell;\n",
       "    width : 40%;\n",
       "}\n",
       "#commentaires{\n",
       "    display : table-cell;\n",
       "}\n",
       ".barre{\n",
       "    text-decoration : line-through;\n",
       "}\n",
       "   \n",
       "</style>"
      ],
      "text/plain": [
       "<IPython.core.display.HTML object>"
      ]
     },
     "metadata": {},
     "output_type": "display_data"
    }
   ],
   "source": [
    "%%html\n",
    "<style>\n",
    "body{\n",
    "    color : #ff0;\n",
    "    font-family : Helvetica;\n",
    "}\n",
    "\n",
    "h1{\n",
    "    display : inline-block;\n",
    "    width : 100%;\n",
    "    height : 50px;\n",
    "    text-align : center;\n",
    "    color : #f00000;\n",
    "    background : #a4a4a4;\n",
    "    \n",
    "}\n",
    "h2{\n",
    "    color : #00f;\n",
    "}\n",
    "h3{\n",
    "    color : #f544ff;\n",
    "}\n",
    ".para h2 > li{\n",
    "    list-style-type : upper-roman;\n",
    "}\n",
    ".haut{\n",
    "    display : block;\n",
    "    text-align : right;\n",
    "}\n",
    "#officiel{\n",
    "    background-color : #eee;\n",
    "    color : #0020ff;\n",
    "}\n",
    "#tableau{\n",
    "    display : table;\n",
    "    width = 100%;\n",
    "}\n",
    "#contenus{\n",
    "    dipalay : table-cell;\n",
    "    width : 10%;}\n",
    "#capacites{\n",
    "    display : table-cell;\n",
    "    width : 40%;\n",
    "}\n",
    "#commentaires{\n",
    "    display : table-cell;\n",
    "}\n",
    ".barre{\n",
    "    text-decoration : line-through;\n",
    "}\n",
    "   \n",
    "</style>"
   ]
  },
  {
   "cell_type": "markdown",
   "metadata": {},
   "source": [
    "<h1 id = \"titre\">Formation Python pour professeurs de mathématiques.</h1>\n",
    "<div id = \"sommaire\">\n",
    "<ol class = \"para\">\n",
    "    <h2><li><a href =\"#partie1\">Algorithme et programmation dans le programme officiel</a></li></h2>\n",
    "        <ol id = \"sous_para\">\n",
    "            <h3><li><a href =\"#partie1A\">Extrait du programme de seconde</a></li></h3>\n",
    "            <h3><li><a href =\"#partie1B\">Pourquoi Python</a></li></h3>\n",
    "        </ol>\n",
    "    <h2><li><a href =\"#partie2\">Présentation d'environnements de programmation dans le langage Python</a></li></h2>\n",
    "        <ol>\n",
    "            <h3><li><a href =\"#partie2A\">Distribution standard de Python : IDLE</a></li></h3>\n",
    "            <h3><li><a href =\"#partie2B\">EduPython</a></li></h3>\n",
    "            <h3><li><a href =\"#partie2C\">Anaconda</a></li></h3>\n",
    "            <h3><li><a href =\"#partie2B\">Bibliothèques conseillées</a></li></h3>\n",
    "        </ol>\n",
    "    <h2><li><a href = \"#partie3\">Prise en main de Python</a></li></h2>\n",
    "        <ol>\n",
    "            <h3><li><a href =\"#partie3A\">Opérations de base</a></li></h3>\n",
    "            <h3><li><a href =\"#partie3B\">Variables et type de données</a></li></h3>\n",
    "            <h3><li><a href =\"#partie3C\">Les entrées/sorties</a></li></h3>\n",
    "            <h3><li><a href =\"#partie3D\">Structures de contrôle</a></li></h3>\n",
    "                <ol>\n",
    "                    <h4><li>if/elif/else</li></h4>\n",
    "                    <h4><li>for/range</li></h4>\n",
    "                    <h4><li>while/break/continue</li></h4>\n",
    "                </ol>\n",
    "            <h3><li><a href =\"#partie3E\">Définition de fonctions</a></li></h3>\n",
    "            <h3><li><a href =\"#partie3F\">Convention de nommage</a></li></h3>\n",
    "        </ol>\n",
    "    <h2><li>Exemples de programmes simples</li></h2>\n",
    "</ol>\n",
    "</div>"
   ]
  },
  {
   "cell_type": "markdown",
   "metadata": {},
   "source": [
    "<div id =\"partie1\">\n",
    "<h2>I. Algorithme et programmation dans le programme officiel</h2>\n",
    "<div id =\"partie1A\">\n",
    "\t<h3>A. Extrait du programme de seconde</h3><br/>\n",
    "\tLe paragraphe 4 concerne l'algorithmique et la programmation dans le programme officiel de seconde.<br/>\n",
    "<div id = \"officiel\">\n",
    "<h4>4. Algorithmique et programmation</h4>\n",
    "La démarche algorithmique est, depuis les origines, une composante essentielle de l’activité\n",
    "mathématique. Au cycle 4, en mathématiques et en technologie, les élèves ont appris à écrire, mettre\n",
    "au point et exécuter un programme simple. Ce qui est proposé dans ce programme est une\n",
    "consolidation des acquis du cycle 4 autour de deux idées essentielles :\n",
    "<ul>\n",
    "<li> la notion de fonction d’une part, et</li>\n",
    "<li>la programmation comme production d’un texte dans un langage informatique d’autre part.</li>\n",
    "</ul>\n",
    "Dans le cadre de cette activité, les élèves sont entraînés :\n",
    "<ul>\n",
    "<li> à décrire des algorithmes en langage naturel ou dans un langage de programmation ;</li>\n",
    "<li> à en réaliser quelques-uns à l’aide d’un programme simple écrit dans un langage de\n",
    "programmation textuel;</li>\n",
    "<li> à interpréter des algorithmes plus complexes.</li>\n",
    "</ul>\n",
    "Un langage de programmation simple d’usage est nécessaire pour l’écriture des programmes. Le\n",
    "choix du langage se fera parmi les langages interprétés, concis, largement répandus, et pouvant\n",
    "fonctionner dans une diversité d’environnements.\n",
    "L’algorithmique a une place naturelle dans tous les champs des mathématiques et les problèmes ainsi\n",
    "traités doivent être en relation avec les autres parties du programme (fonctions, géométrie,\n",
    "statistiques et probabilité, logique) mais aussi avec les autres disciplines ou la vie courante.\n",
    "À l’occasion de l’écriture d’algorithmes et de petits programmes, il convient de donner aux élèves de\n",
    "bonnes habitudes de rigueur et de les entraîner aux pratiques systématiques de vérification et de\n",
    "contrôle. En programmant, les élèves revisitent les notions de variables et de fonctions sous une\n",
    "forme différente. Il convient d'y être attentif.\n",
    "\n",
    "\n",
    "<div id = \"tableau\">\n",
    "<div id = \"contenus\">\n",
    "<h4>CONTENUS </h4>\n",
    "<p>Variables et instructions élémentaires.</p>\n",
    "<p>Boucle et itérateur, instruction conditionnelle.</p>\n",
    "<p>Notion de fonction.</p>\n",
    "</div>\n",
    "<div id = \"capacites\">\n",
    "<h4>CAPACITES ATTENDUES </h4>\n",
    "\n",
    "<ul>\n",
    "        <li>choisir ou déterminer le type d’une variable (entier, flottant ou chaîne de caractères) ;</li>\n",
    "    <li>concevoir et écrire des affectations à des variables ;</li>\n",
    "    <li>écrire une formule permettant un calcul combinant des variables.</li>\n",
    "</ul>\n",
    "\n",
    "<p>\n",
    "<ul>\n",
    "<li>programmer une instruction conditionnelle ;</li>\n",
    "<li>programmer une boucle bornée ;</li>\n",
    "<li>programmer une boucle non bornée.</li>\n",
    "</ul>\n",
    "<ul>\n",
    "<li>programmer des fonctions simples, ayant un petit nombre d’arguments.</li>\n",
    "</ul>\n",
    "\n",
    "</div>\n",
    "<div id = \"commentaires\">\n",
    "<h4>COMMENTAIRES</h4>\n",
    "<p>On commence par consolider les notions de variables, de boucles et d’instructions conditionnelles introduites au cycle 4 en complétant la programmation par blocs par l’utilisation d’un langage de programmation textuel.</p>\n",
    "<p>On formalise les notions de boucle bornée (for) et de boucle non bornée(while) et on introduit la notionnouvelle de fonction dans un langage de programmation.</p>\n",
    "<p class =\"barre\">\n",
    "Il est intéressant de confronter les fonctions dans un langage de programmation avec les fonctions d’un tableur.\n",
    "</p>\n",
    "</div>\n",
    "\n",
    "\n",
    "</div>\n",
    "</div>\n",
    "</div>\n",
    "Lien pour le téléchargement sur le site Euler de l'académie de versailles :\n",
    "<a href =\"http://cache.media.education.gouv.fr/file/18/95/3/ensel512_maths_757953.pdf\">Aménagement du programme de seconde</a>.<br/>\n",
    "</div>"
   ]
  },
  {
   "cell_type": "markdown",
   "metadata": {},
   "source": [
    "<div id =\"partie1B\">\n",
    "<h3>B. Pourquoi Python</h3><br/>\n",
    "Le programme officiel ne mentionne pas explicitement l'utilisation du langage Python... à TERMINER !\n",
    "</div>\n",
    "</div>\n"
   ]
  },
  {
   "cell_type": "markdown",
   "metadata": {},
   "source": [
    "<div id =\"partie2\">\n",
    "<h2>II. Présentation d'environnement de programmation dans le langage Python</h2>\n",
    "<div id =\"partie2A\">\n",
    "<h3>A. Distribution standard de Python : IDLE</h3>\n",
    "La distribution standard de Python présente un environnement de programmation très sobre. \n",
    "On y trouve :<br/>\n",
    "<ul>\n",
    "<li>Un interpréteur pour exécuter à la volée du code.</li>\n",
    "\n",
    "![Interpréteur](img1.png \"Vue de l'interpréteur\")<br/>\n",
    "\n",
    "<li>Un éditeur pour écrire puis exécuter du code, en général des programmes de plusieurs lignes.</li>\n",
    "\n",
    "![Interpréteur](img2.png \"Vue de l'interpréteur\")<br/>\n",
    "</ul>\n",
    "\n",
    "On peut télécharger une version de cet environnement sur le site officiel : <https://www.python.org/>, en choisissant la version qui correspond à son système d'exploitation.\n",
    "</div>"
   ]
  },
  {
   "cell_type": "markdown",
   "metadata": {},
   "source": [
    "<div id =\"partie2B\">\n",
    "<h3>B. EduPython</h3>\n",
    "EduPython est une distribution qui est est basée sur les production d'un groupe de travail sur Python dans l'académie d'Amiens. Cette distribution propose un environnement qui comporte un certain nombre de bibliothèques pré-installées très utiles, dont une spécialement adaptée pour le lycée, *lycee.py*.<br/>\n",
    "Lien pour le téléchargement : <a href = \"https://edupython.tuxfamily.org/\">EduPython</a>.<br/>\n",
    "</div>"
   ]
  },
  {
   "cell_type": "markdown",
   "metadata": {},
   "source": [
    "<div id =\"partie2C\">\n",
    "<h3>C. Anaconda</h3>\n",
    "Anaconda, tout comme Edupython, un environnement qui comporte de nombreuses de bibliothèques déjà installées. On dispose cependant en plus d'un notebook, Jupyter, application qui permet de rédiger un document contenant du texte, des images, de la vidéo et du codes exécutables et des outils très performants pour la programmation scientifique.<br/>\n",
    "Lien pour le téléchargement : <a href = \"https://www.anaconda.com/download/\">Anaconda</a>.<br/>\n",
    "</div>"
   ]
  },
  {
   "cell_type": "markdown",
   "metadata": {},
   "source": [
    "<div id =\"partie2D\">\n",
    "<h3>D. Bibliothèques conseillées</h3>\n",
    "<ul>\n",
    "    <li>Matplotlib : Permet de visualiser des données sous formes de graphiques.</li>\n",
    "    <li>Numpy : Permet la manipulation des matrices ou tableaux multidimensionnels.</li>\n",
    "    <li>Sympy : Permet de réaliser du calcul formel.</li>\n",
    "</ul>\n",
    "</div>\n",
    "</div>\n",
    "<span class =\"haut\"><a href = \"#sommaire\">Sommaire</a></span>"
   ]
  },
  {
   "cell_type": "markdown",
   "metadata": {},
   "source": [
    "<div id =\"partie3\">\n",
    "<h2>III. Prise en main de Python</h2>\n",
    "Lorsqu'on souhaite tester un bout de code on utilisera principalement l'interpréteur que l'on obtient par la console Shell avec l'IDLE ou par la console IPython avec Anaconda et EduPython.<br/>\n",
    "Dans ce document on utilise la console IPython dans un notebook Jupyter de la distribution Anaconda.\n",
    "</div>\n",
    "<div id = \"partie3A\">\n",
    "<h3>A. Opérations de base</h3>\n",
    "<h4>1). Les opérateurs arithmétiques - Les constantes mathématiques</h4>\n"
   ]
  },
  {
   "cell_type": "markdown",
   "metadata": {},
   "source": [
    "Addition de nombres : $+$"
   ]
  },
  {
   "cell_type": "code",
   "execution_count": 1,
   "metadata": {},
   "outputs": [
    {
     "data": {
      "text/plain": [
       "11.5"
      ]
     },
     "execution_count": 1,
     "metadata": {},
     "output_type": "execute_result"
    }
   ],
   "source": [
    "2+9.5"
   ]
  },
  {
   "cell_type": "markdown",
   "metadata": {},
   "source": [
    "Concaténation de chaînes de caractères : $+$"
   ]
  },
  {
   "cell_type": "code",
   "execution_count": 2,
   "metadata": {},
   "outputs": [
    {
     "data": {
      "text/plain": [
       "'29.5'"
      ]
     },
     "execution_count": 2,
     "metadata": {},
     "output_type": "execute_result"
    }
   ],
   "source": [
    "'2'+'9.5'"
   ]
  },
  {
   "cell_type": "markdown",
   "metadata": {},
   "source": [
    "Soustraction de nombres : $-$"
   ]
  },
  {
   "cell_type": "code",
   "execution_count": 3,
   "metadata": {},
   "outputs": [
    {
     "data": {
      "text/plain": [
       "-7.5"
      ]
     },
     "execution_count": 3,
     "metadata": {},
     "output_type": "execute_result"
    }
   ],
   "source": [
    "2-9.5"
   ]
  },
  {
   "cell_type": "code",
   "execution_count": 9,
   "metadata": {},
   "outputs": [
    {
     "ename": "TypeError",
     "evalue": "unsupported operand type(s) for -: 'str' and 'str'",
     "output_type": "error",
     "traceback": [
      "\u001b[1;31m---------------------------------------------------------------------------\u001b[0m",
      "\u001b[1;31mTypeError\u001b[0m                                 Traceback (most recent call last)",
      "\u001b[1;32m<ipython-input-9-55ee7cb88570>\u001b[0m in \u001b[0;36m<module>\u001b[1;34m()\u001b[0m\n\u001b[0;32m      1\u001b[0m \u001b[1;31m#Soustraction de chaînes da caractères\u001b[0m\u001b[1;33m\u001b[0m\u001b[1;33m\u001b[0m\u001b[0m\n\u001b[1;32m----> 2\u001b[1;33m \u001b[1;34m'2'\u001b[0m\u001b[1;33m-\u001b[0m\u001b[1;34m'9'\u001b[0m\u001b[1;33m\u001b[0m\u001b[0m\n\u001b[0m",
      "\u001b[1;31mTypeError\u001b[0m: unsupported operand type(s) for -: 'str' and 'str'"
     ]
    }
   ],
   "source": [
    "#Soustraction de chaînes da caractères\n",
    "'2'-'9.5'"
   ]
  },
  {
   "cell_type": "markdown",
   "metadata": {},
   "source": [
    "Multiplication de nombres : $*$"
   ]
  },
  {
   "cell_type": "code",
   "execution_count": 4,
   "metadata": {},
   "outputs": [
    {
     "data": {
      "text/plain": [
       "19.0"
      ]
     },
     "execution_count": 4,
     "metadata": {},
     "output_type": "execute_result"
    }
   ],
   "source": [
    "2*9.5"
   ]
  },
  {
   "cell_type": "markdown",
   "metadata": {},
   "source": [
    "Multiplication d'une chaîne de caractères par un nombre entier naturel : $*$"
   ]
  },
  {
   "cell_type": "code",
   "execution_count": 26,
   "metadata": {},
   "outputs": [
    {
     "data": {
      "text/plain": [
       "'9.59.59.59.59.59.59.59.59.59.5'"
      ]
     },
     "execution_count": 26,
     "metadata": {},
     "output_type": "execute_result"
    }
   ],
   "source": [
    "'9.5'*10 #Idem 10*'9.5'"
   ]
  },
  {
   "cell_type": "markdown",
   "metadata": {},
   "source": [
    "La puissance : $**$"
   ]
  },
  {
   "cell_type": "code",
   "execution_count": null,
   "metadata": {
    "collapsed": true
   },
   "outputs": [],
   "source": [
    "2**9"
   ]
  },
  {
   "cell_type": "code",
   "execution_count": null,
   "metadata": {
    "collapsed": true
   },
   "outputs": [],
   "source": [
    "#ou\n",
    "pow(2,9)"
   ]
  },
  {
   "cell_type": "markdown",
   "metadata": {},
   "source": [
    "Avec un exposant \"réel\" :"
   ]
  },
  {
   "cell_type": "code",
   "execution_count": 21,
   "metadata": {},
   "outputs": [
    {
     "data": {
      "text/plain": [
       "8.111675838320233"
      ]
     },
     "execution_count": 21,
     "metadata": {},
     "output_type": "execute_result"
    }
   ],
   "source": [
    "4**1.51"
   ]
  },
  {
   "cell_type": "markdown",
   "metadata": {},
   "source": [
    "Attention !"
   ]
  },
  {
   "cell_type": "code",
   "execution_count": 27,
   "metadata": {},
   "outputs": [
    {
     "data": {
      "text/plain": [
       "(-2.0208410431434602-0.8001075703085011j)"
      ]
     },
     "execution_count": 27,
     "metadata": {},
     "output_type": "execute_result"
    }
   ],
   "source": [
    "(-2)**1.12"
   ]
  },
  {
   "cell_type": "code",
   "execution_count": 46,
   "metadata": {},
   "outputs": [
    {
     "data": {
      "text/plain": [
       "(1.0986122886681098+0j)"
      ]
     },
     "execution_count": 46,
     "metadata": {},
     "output_type": "execute_result"
    }
   ],
   "source": [
    "from cmath import*\n",
    "a = complex(1,4)\n",
    "b = complex(2,-4)\n",
    "log(a+b)"
   ]
  },
  {
   "cell_type": "code",
   "execution_count": null,
   "metadata": {
    "collapsed": true
   },
   "outputs": [],
   "source": [
    "#Division\n",
    "177/9"
   ]
  },
  {
   "cell_type": "code",
   "execution_count": null,
   "metadata": {
    "collapsed": true
   },
   "outputs": [],
   "source": [
    "#Division-Quotient de la division euclidienne\n",
    "177//9"
   ]
  },
  {
   "cell_type": "code",
   "execution_count": null,
   "metadata": {
    "collapsed": true
   },
   "outputs": [],
   "source": [
    "#Division-Reste de la division euclidienne\n",
    "177%9"
   ]
  },
  {
   "cell_type": "code",
   "execution_count": null,
   "metadata": {
    "collapsed": true
   },
   "outputs": [],
   "source": [
    "#Des constantes\n",
    "pi"
   ]
  },
  {
   "cell_type": "code",
   "execution_count": null,
   "metadata": {
    "collapsed": true
   },
   "outputs": [],
   "source": [
    "#Importer des constantes et des fonctions à partir d'une bibliothèque\n",
    "from math import pi, e"
   ]
  },
  {
   "cell_type": "code",
   "execution_count": null,
   "metadata": {
    "collapsed": true
   },
   "outputs": [],
   "source": [
    "pi"
   ]
  },
  {
   "cell_type": "code",
   "execution_count": null,
   "metadata": {
    "collapsed": true
   },
   "outputs": [],
   "source": [
    "#Ecréture décimale avec deux chiffres\n",
    "float(format(pi,'0.2g'))"
   ]
  },
  {
   "cell_type": "code",
   "execution_count": null,
   "metadata": {
    "collapsed": true
   },
   "outputs": [],
   "source": [
    "#Ecriture décimale avec deux chiffres après la virgule\n",
    "pi_50 = format(pi,'0.50f')"
   ]
  },
  {
   "cell_type": "code",
   "execution_count": null,
   "metadata": {
    "collapsed": true
   },
   "outputs": [],
   "source": [
    "e"
   ]
  },
  {
   "cell_type": "markdown",
   "metadata": {},
   "source": [
    "<h4>2). Opérateurs de comparaisons et opérateurs logiques</h4>"
   ]
  },
  {
   "cell_type": "code",
   "execution_count": null,
   "metadata": {
    "collapsed": true
   },
   "outputs": [],
   "source": [
    "#Egalité et Inégalités\n",
    "2==2.0"
   ]
  },
  {
   "cell_type": "code",
   "execution_count": null,
   "metadata": {
    "collapsed": true
   },
   "outputs": [],
   "source": [
    "'toto'=='Toto'"
   ]
  },
  {
   "cell_type": "code",
   "execution_count": null,
   "metadata": {
    "collapsed": true
   },
   "outputs": [],
   "source": [
    "2<5"
   ]
  },
  {
   "cell_type": "code",
   "execution_count": null,
   "metadata": {
    "collapsed": true
   },
   "outputs": [],
   "source": [
    "2<=5"
   ]
  },
  {
   "cell_type": "code",
   "execution_count": null,
   "metadata": {
    "collapsed": true
   },
   "outputs": [],
   "source": [
    "2.5>3"
   ]
  },
  {
   "cell_type": "code",
   "execution_count": null,
   "metadata": {
    "collapsed": true
   },
   "outputs": [],
   "source": [
    "from math import sqrt\n",
    "2 == sqrt(2)**2"
   ]
  },
  {
   "cell_type": "code",
   "execution_count": null,
   "metadata": {
    "collapsed": true
   },
   "outputs": [],
   "source": [
    "#Non égalité\n",
    "2 != sqrt(2)**2"
   ]
  },
  {
   "cell_type": "code",
   "execution_count": null,
   "metadata": {
    "collapsed": true
   },
   "outputs": [],
   "source": [
    "import sympy\n",
    "2 == sympy.sqrt(2)**2"
   ]
  },
  {
   "cell_type": "code",
   "execution_count": null,
   "metadata": {
    "collapsed": true
   },
   "outputs": [],
   "source": [
    "2 > 1 and 2 < 5"
   ]
  },
  {
   "cell_type": "code",
   "execution_count": null,
   "metadata": {
    "collapsed": true
   },
   "outputs": [],
   "source": [
    "2 < 1 or 2 < 5"
   ]
  },
  {
   "cell_type": "code",
   "execution_count": null,
   "metadata": {
    "collapsed": true
   },
   "outputs": [],
   "source": [
    "2<5<7"
   ]
  },
  {
   "cell_type": "code",
   "execution_count": null,
   "metadata": {
    "collapsed": true
   },
   "outputs": [],
   "source": [
    "1<2<6<4"
   ]
  },
  {
   "cell_type": "markdown",
   "metadata": {},
   "source": [
    "<span class =\"haut\"><a href = \"#sommaire\">Haut de page</a></span>"
   ]
  },
  {
   "cell_type": "markdown",
   "metadata": {},
   "source": [
    "</div>\n",
    "<div id =\"partie3B\">\n",
    "<h3>B. Variables et types</h3>\n"
   ]
  },
  {
   "cell_type": "code",
   "execution_count": null,
   "metadata": {
    "collapsed": true
   },
   "outputs": [],
   "source": [
    "#Déclaration et affectation\n",
    "x = 9"
   ]
  },
  {
   "cell_type": "code",
   "execution_count": null,
   "metadata": {
    "collapsed": true
   },
   "outputs": [],
   "source": [
    "#Affectation et opérations combinées\n",
    "x += 2 #Identique à x = x + 2"
   ]
  },
  {
   "cell_type": "code",
   "execution_count": null,
   "metadata": {
    "collapsed": true
   },
   "outputs": [],
   "source": [
    "x"
   ]
  },
  {
   "cell_type": "code",
   "execution_count": null,
   "metadata": {
    "collapsed": true
   },
   "outputs": [],
   "source": [
    "x *= 3 #Identique à x = x * 3"
   ]
  },
  {
   "cell_type": "code",
   "execution_count": null,
   "metadata": {
    "collapsed": true
   },
   "outputs": [],
   "source": [
    "x"
   ]
  },
  {
   "cell_type": "code",
   "execution_count": null,
   "metadata": {
    "collapsed": true
   },
   "outputs": [],
   "source": [
    "x /= 11 #Identique à x = x / 11"
   ]
  },
  {
   "cell_type": "code",
   "execution_count": null,
   "metadata": {
    "collapsed": true
   },
   "outputs": [],
   "source": [
    "x"
   ]
  },
  {
   "cell_type": "code",
   "execution_count": null,
   "metadata": {
    "collapsed": true
   },
   "outputs": [],
   "source": [
    "x -= 5 #Identique à x = x - 5"
   ]
  },
  {
   "cell_type": "code",
   "execution_count": null,
   "metadata": {
    "collapsed": true
   },
   "outputs": [],
   "source": [
    "x"
   ]
  },
  {
   "cell_type": "code",
   "execution_count": null,
   "metadata": {
    "collapsed": true
   },
   "outputs": [],
   "source": [
    "x **=4 #Identique à x = x**4"
   ]
  },
  {
   "cell_type": "code",
   "execution_count": null,
   "metadata": {
    "collapsed": true
   },
   "outputs": [],
   "source": [
    "x"
   ]
  },
  {
   "cell_type": "code",
   "execution_count": null,
   "metadata": {
    "collapsed": true
   },
   "outputs": [],
   "source": [
    "#Le type d'une variable\n",
    "type(x)"
   ]
  },
  {
   "cell_type": "code",
   "execution_count": null,
   "metadata": {
    "collapsed": true
   },
   "outputs": [],
   "source": [
    "#Chaîne de caractères\n",
    "x = 'mot'\n",
    "type(x)"
   ]
  },
  {
   "cell_type": "code",
   "execution_count": null,
   "metadata": {
    "collapsed": true
   },
   "outputs": [],
   "source": [
    "#Nombre décimal\n",
    "x = 1.0\n",
    "type(x)"
   ]
  },
  {
   "cell_type": "code",
   "execution_count": null,
   "metadata": {
    "collapsed": true
   },
   "outputs": [],
   "source": [
    "#Entier\n",
    "x = 1\n",
    "type(x)"
   ]
  },
  {
   "cell_type": "code",
   "execution_count": null,
   "metadata": {
    "collapsed": true
   },
   "outputs": [],
   "source": [
    "#Les n-uplets\n",
    "x = (1,2,3,4)\n",
    "type(x)"
   ]
  },
  {
   "cell_type": "code",
   "execution_count": null,
   "metadata": {
    "collapsed": true
   },
   "outputs": [],
   "source": [
    "#Listes\n",
    "x = [1,2,3,4]\n",
    "type(x)"
   ]
  },
  {
   "cell_type": "code",
   "execution_count": null,
   "metadata": {
    "collapsed": true
   },
   "outputs": [],
   "source": [
    "#Dictionnaires\n",
    "x = {'nom' : 'Jean', 1 :'un' , 2 : 1}\n",
    "type(x)"
   ]
  },
  {
   "cell_type": "code",
   "execution_count": null,
   "metadata": {
    "collapsed": true
   },
   "outputs": [],
   "source": [
    "#Manipulation des tuples\n",
    "point = (1,2,-9)"
   ]
  },
  {
   "cell_type": "code",
   "execution_count": null,
   "metadata": {
    "collapsed": true
   },
   "outputs": [],
   "source": [
    "#Accès à la première composante en lecture\n",
    "point[0]"
   ]
  },
  {
   "cell_type": "code",
   "execution_count": null,
   "metadata": {
    "collapsed": true
   },
   "outputs": [],
   "source": [
    "#Accès à la deuxième composante en lecture\n",
    "point[1]"
   ]
  },
  {
   "cell_type": "code",
   "execution_count": null,
   "metadata": {
    "collapsed": true
   },
   "outputs": [],
   "source": [
    "#Accès à la troiosième composante en lecture\n",
    "point[2]"
   ]
  },
  {
   "cell_type": "code",
   "execution_count": null,
   "metadata": {
    "collapsed": true
   },
   "outputs": [],
   "source": [
    "#Accès en écriture pour modification impossible\n",
    "point[0] = 0"
   ]
  },
  {
   "cell_type": "code",
   "execution_count": null,
   "metadata": {
    "collapsed": true
   },
   "outputs": [],
   "source": [
    "#Addition de tuples : Concaténation\n",
    "p1, p2  = (1,5),(-1,2)\n",
    "p = p1 + p2"
   ]
  },
  {
   "cell_type": "code",
   "execution_count": null,
   "metadata": {
    "collapsed": true
   },
   "outputs": [],
   "source": [
    "p"
   ]
  },
  {
   "cell_type": "code",
   "execution_count": null,
   "metadata": {
    "collapsed": true
   },
   "outputs": [],
   "source": [
    "p + (-3,)"
   ]
  },
  {
   "cell_type": "code",
   "execution_count": null,
   "metadata": {
    "collapsed": true
   },
   "outputs": [],
   "source": [
    "#Multiplication par un nombre\n",
    "t = (0,)*6"
   ]
  },
  {
   "cell_type": "code",
   "execution_count": null,
   "metadata": {
    "collapsed": true
   },
   "outputs": [],
   "source": [
    "t"
   ]
  },
  {
   "cell_type": "code",
   "execution_count": null,
   "metadata": {
    "collapsed": true
   },
   "outputs": [],
   "source": [
    "#Manipulation des listes\n",
    "l1 = list() #Liste vide\n",
    "l2 = [] #Liste vide\n",
    "l3 = [0,1,2,3,4,5]\n",
    "l4 = list(range(20))\n",
    "l5 = list(range(20,30))"
   ]
  },
  {
   "cell_type": "code",
   "execution_count": null,
   "metadata": {
    "collapsed": true
   },
   "outputs": [],
   "source": [
    "l1"
   ]
  },
  {
   "cell_type": "code",
   "execution_count": null,
   "metadata": {
    "collapsed": true
   },
   "outputs": [],
   "source": [
    "l2"
   ]
  },
  {
   "cell_type": "code",
   "execution_count": null,
   "metadata": {
    "collapsed": true
   },
   "outputs": [],
   "source": [
    "l3"
   ]
  },
  {
   "cell_type": "code",
   "execution_count": null,
   "metadata": {
    "collapsed": true
   },
   "outputs": [],
   "source": [
    "l4"
   ]
  },
  {
   "cell_type": "code",
   "execution_count": null,
   "metadata": {
    "collapsed": true
   },
   "outputs": [],
   "source": [
    "l5"
   ]
  },
  {
   "cell_type": "code",
   "execution_count": null,
   "metadata": {
    "collapsed": true
   },
   "outputs": [],
   "source": [
    "#Accès à un élément d'une liste\n",
    "el1 = l4[0]\n",
    "el2 = l4[1]"
   ]
  },
  {
   "cell_type": "code",
   "execution_count": null,
   "metadata": {
    "collapsed": true
   },
   "outputs": [],
   "source": [
    "el1"
   ]
  },
  {
   "cell_type": "code",
   "execution_count": null,
   "metadata": {
    "collapsed": true
   },
   "outputs": [],
   "source": [
    "el2"
   ]
  },
  {
   "cell_type": "code",
   "execution_count": null,
   "metadata": {
    "collapsed": true
   },
   "outputs": [],
   "source": [
    "#Accès à plusieurs éléments\n",
    "elts = l4[3:10]"
   ]
  },
  {
   "cell_type": "code",
   "execution_count": null,
   "metadata": {
    "collapsed": true
   },
   "outputs": [],
   "source": [
    "elts"
   ]
  },
  {
   "cell_type": "code",
   "execution_count": null,
   "metadata": {
    "collapsed": true
   },
   "outputs": [],
   "source": [
    "elts = l4[10:]"
   ]
  },
  {
   "cell_type": "code",
   "execution_count": null,
   "metadata": {
    "collapsed": true
   },
   "outputs": [],
   "source": [
    "elts"
   ]
  },
  {
   "cell_type": "code",
   "execution_count": null,
   "metadata": {
    "collapsed": true
   },
   "outputs": [],
   "source": [
    "elts = l4[:10]"
   ]
  },
  {
   "cell_type": "code",
   "execution_count": null,
   "metadata": {
    "collapsed": true
   },
   "outputs": [],
   "source": [
    "elts"
   ]
  },
  {
   "cell_type": "code",
   "execution_count": null,
   "metadata": {
    "collapsed": true
   },
   "outputs": [],
   "source": [
    "#Le nombre d'éléments d'une liste ou taille\n",
    "taille = len(l4)"
   ]
  },
  {
   "cell_type": "code",
   "execution_count": null,
   "metadata": {
    "collapsed": true
   },
   "outputs": [],
   "source": [
    "taille"
   ]
  },
  {
   "cell_type": "code",
   "execution_count": null,
   "metadata": {
    "collapsed": true
   },
   "outputs": [],
   "source": [
    "#Modifier la valeur d'un élément de la liste\n",
    "l4[0] = -1"
   ]
  },
  {
   "cell_type": "code",
   "execution_count": null,
   "metadata": {
    "collapsed": true
   },
   "outputs": [],
   "source": [
    "l4"
   ]
  },
  {
   "cell_type": "code",
   "execution_count": null,
   "metadata": {
    "collapsed": true
   },
   "outputs": [],
   "source": [
    "#Insérer un élément à la fin de la liste\n",
    "l4.append(20)"
   ]
  },
  {
   "cell_type": "code",
   "execution_count": null,
   "metadata": {
    "collapsed": true
   },
   "outputs": [],
   "source": [
    "l4"
   ]
  },
  {
   "cell_type": "code",
   "execution_count": null,
   "metadata": {
    "collapsed": true
   },
   "outputs": [],
   "source": [
    "#Insérer un élément avant un autre\n",
    "l4.insert(1,0) #Insert 0 avant le 2eme élément de la liste"
   ]
  },
  {
   "cell_type": "code",
   "execution_count": null,
   "metadata": {
    "collapsed": true
   },
   "outputs": [],
   "source": [
    "l4"
   ]
  },
  {
   "cell_type": "code",
   "execution_count": null,
   "metadata": {
    "collapsed": true
   },
   "outputs": [],
   "source": [
    "#Supprimer un élément existant dans la liste\n",
    "l4.remove(-1)"
   ]
  },
  {
   "cell_type": "code",
   "execution_count": null,
   "metadata": {
    "collapsed": true
   },
   "outputs": [],
   "source": [
    "l4"
   ]
  },
  {
   "cell_type": "code",
   "execution_count": null,
   "metadata": {
    "collapsed": true
   },
   "outputs": [],
   "source": [
    "#Si plusieurs fois la même valeur dans le liste ?\n",
    "l6 = [2]*5"
   ]
  },
  {
   "cell_type": "code",
   "execution_count": null,
   "metadata": {
    "collapsed": true
   },
   "outputs": [],
   "source": [
    "l6"
   ]
  },
  {
   "cell_type": "code",
   "execution_count": null,
   "metadata": {
    "collapsed": true
   },
   "outputs": [],
   "source": [
    "l6.remove(2)"
   ]
  },
  {
   "cell_type": "code",
   "execution_count": null,
   "metadata": {
    "collapsed": true
   },
   "outputs": [],
   "source": [
    "l6"
   ]
  },
  {
   "cell_type": "code",
   "execution_count": null,
   "metadata": {
    "collapsed": true
   },
   "outputs": [],
   "source": [
    "#Autre manière de supprimer un élément\n",
    "del l4[0:10] # Suppression en utilisant les indices"
   ]
  },
  {
   "cell_type": "code",
   "execution_count": null,
   "metadata": {
    "collapsed": true
   },
   "outputs": [],
   "source": [
    "l4"
   ]
  },
  {
   "cell_type": "markdown",
   "metadata": {},
   "source": [
    "<span class =\"haut\"><a href = \"#sommaire\">Haut de page</a></span>"
   ]
  },
  {
   "cell_type": "markdown",
   "metadata": {},
   "source": [
    "</div>\n",
    "<div id =\"partie3C\">\n",
    "<h3>C. Les entrées/sorties</h3>\n",
    "<h4>1). Fonction print() </h4>"
   ]
  },
  {
   "cell_type": "code",
   "execution_count": null,
   "metadata": {
    "collapsed": true
   },
   "outputs": [],
   "source": [
    "#Affichage du contenu d'une variable\n",
    "print(l4)#Affiche la liste l4"
   ]
  },
  {
   "cell_type": "code",
   "execution_count": null,
   "metadata": {
    "collapsed": true
   },
   "outputs": [],
   "source": [
    "#Affichage d'un élément de la liste\n",
    "print(\"Dans la liste l4, l'élément d'indice 2 est la troisième valeur de la liste. l4[2] = \",l4[2])"
   ]
  },
  {
   "cell_type": "code",
   "execution_count": null,
   "metadata": {
    "collapsed": true
   },
   "outputs": [],
   "source": [
    "#Affichage d'un élément de la liste, autre méthode\n",
    "print(\"Dans la liste l4, l'élément d'indice 2 est la troisième valeur de la liste. l4[2] = {}\".format(l4[2]))"
   ]
  },
  {
   "cell_type": "code",
   "execution_count": null,
   "metadata": {
    "collapsed": true
   },
   "outputs": [],
   "source": [
    "#Formatage de l'affichage d'un nombre\n",
    "x = sqrt(l4[2])\n",
    "print(x)"
   ]
  },
  {
   "cell_type": "code",
   "execution_count": null,
   "metadata": {
    "collapsed": true
   },
   "outputs": [],
   "source": [
    "print('{:.4g}'.format(x))#Ecriture avec 4 chiffres (arrondi)"
   ]
  },
  {
   "cell_type": "code",
   "execution_count": null,
   "metadata": {
    "collapsed": true
   },
   "outputs": [],
   "source": [
    "print(\"Ecriture de {} avec 4 chiffres après la virgule : {:.4f}\".format(x,x))"
   ]
  },
  {
   "cell_type": "code",
   "execution_count": null,
   "metadata": {
    "collapsed": true
   },
   "outputs": [],
   "source": [
    "print('Jour','Mois','Année', sep =' '*5)\n",
    "print('{:4d}{:9d}{:10d}'.format(2,7,1985))"
   ]
  },
  {
   "cell_type": "markdown",
   "metadata": {},
   "source": [
    "<h4>2). Fonction input() </h4>"
   ]
  },
  {
   "cell_type": "code",
   "execution_count": null,
   "metadata": {
    "collapsed": true
   },
   "outputs": [],
   "source": [
    "#Permet la saisie de données au clavier\n",
    "a = input(\"Entrée : \")"
   ]
  },
  {
   "cell_type": "code",
   "execution_count": null,
   "metadata": {
    "collapsed": true
   },
   "outputs": [],
   "source": [
    "type(a) #Type de la variable a"
   ]
  },
  {
   "cell_type": "code",
   "execution_count": null,
   "metadata": {
    "collapsed": true
   },
   "outputs": [],
   "source": [
    "#Comment entrer un nombre\n",
    "x = float(input(\"Nombre : \"))#Renvoie un float si l'entrée au clavier est une chaîne de caractère représentant une écriture décimale."
   ]
  },
  {
   "cell_type": "code",
   "execution_count": null,
   "metadata": {
    "collapsed": true
   },
   "outputs": [],
   "source": [
    "type(x)"
   ]
  },
  {
   "cell_type": "code",
   "execution_count": null,
   "metadata": {
    "collapsed": true
   },
   "outputs": [],
   "source": [
    "n = int(input(\"Nombre : \"))#Renvoie un entier si l'entrée au clavier est une chaîne de caractère représentant une écriture d'entier."
   ]
  },
  {
   "cell_type": "code",
   "execution_count": null,
   "metadata": {
    "collapsed": true
   },
   "outputs": [],
   "source": [
    "type(n)"
   ]
  },
  {
   "cell_type": "markdown",
   "metadata": {},
   "source": [
    "<span class =\"haut\"><a href = \"#sommaire\">Haut de page</a></span>"
   ]
  },
  {
   "cell_type": "markdown",
   "metadata": {},
   "source": [
    "</div>\n",
    "<div id =\"partie3D\">\n",
    "<h3>D. Structures de contrôle</h3>\n",
    "<h4>a). if/elif/else</h4>"
   ]
  },
  {
   "cell_type": "code",
   "execution_count": null,
   "metadata": {
    "collapsed": true
   },
   "outputs": [],
   "source": [
    "#Vecteurs colinéaires en seconde\n",
    "from sympy import sqrt, simplify\n",
    "v1 = (1, sqrt(2)+1)\n",
    "v2 = (-1+sqrt(2),1)\n",
    "det = simplify(v1[0]*v2[1]-v1[1]*v2[0])\n",
    "if det == 0 :\n",
    "    print(\"Les vecteurs v1 et v2 sont colinéaires.\") #L'indentation défini le bloc d'instructions\n",
    "else :\n",
    "    print(\"Les vecteurs v1 et v2  ne sont pas colinéaires.\")"
   ]
  },
  {
   "cell_type": "code",
   "execution_count": null,
   "metadata": {
    "collapsed": true,
    "scrolled": false
   },
   "outputs": [],
   "source": [
    "#Congruence en TS\n",
    "a = input(\"Entrer un entier : \")\n",
    "reste = int(a)%3\n",
    "quotient = int(a)//3\n",
    "if reste == 0 :\n",
    "    print('{} est divisible par 3.'.format(a))\n",
    "    print('{}= {}*{}'.format(a,3,quotient))\n",
    "elif reste == 1 :\n",
    "    print('{} est congru à {} modulo 3.'.format(a,reste))\n",
    "    print('{}= {}*{}+{}'.format(a,3,quotient,reste))\n",
    "else :\n",
    "    print('{} est congru à {} modulo 3.'.format(a,reste))\n",
    "    print('{}= {}*{}+{}'.format(a,3,quotient,reste))"
   ]
  },
  {
   "cell_type": "markdown",
   "metadata": {},
   "source": [
    "<h4>b). for/range</h4>"
   ]
  },
  {
   "cell_type": "code",
   "execution_count": null,
   "metadata": {
    "collapsed": true
   },
   "outputs": [],
   "source": [
    "#Générer une liste d'entiers\n",
    "for i in range(30):\n",
    "    #print(i)\n",
    "    print(i, end =' ')"
   ]
  },
  {
   "cell_type": "code",
   "execution_count": null,
   "metadata": {
    "collapsed": true
   },
   "outputs": [],
   "source": [
    "#Générer aléatoirement une liste d'entiers entre 1 et 6\n",
    "from random import randint\n",
    "liste = []\n",
    "for i in range(20) :\n",
    "    liste.append(randint(1,6))"
   ]
  },
  {
   "cell_type": "code",
   "execution_count": null,
   "metadata": {
    "collapsed": true
   },
   "outputs": [],
   "source": [
    "#Parcourir tous les éléments d'une liste\n",
    "taille = len(liste)\n",
    "for i in range(taille) :\n",
    "    print('Indice : {:3d}, valeur {:3d}'.format(i, liste[i]))"
   ]
  },
  {
   "cell_type": "code",
   "execution_count": null,
   "metadata": {
    "collapsed": true
   },
   "outputs": [],
   "source": [
    "#Tableau des fréquences\n",
    "frequence = [0]*6\n",
    "for elt in liste :\n",
    "    if elt == 1 :\n",
    "        frequence[elt-1] += 1\n",
    "    elif elt == 2 :\n",
    "        frequence[elt-1] += 1\n",
    "    elif elt == 3 :\n",
    "        frequence[elt-1] += 1\n",
    "    elif elt == 4 :\n",
    "        frequence[elt-1] += 1\n",
    "    elif elt == 5 :\n",
    "        frequence[elt-1] += 1\n",
    "    else :\n",
    "        frequence[elt-1] += 1\n",
    "print(\"--------- Tableau des fréquences----------\")\n",
    "print('{:10s}{:10s}'.format('Numéro', 'Fréquence en %'))\n",
    "for i in range(1,7) :\n",
    "    print(\"{:5d}{:15f}\".format(i, frequence[i-1]/taille))\n",
    "    \n",
    "        "
   ]
  },
  {
   "cell_type": "markdown",
   "metadata": {},
   "source": [
    "<h4>c). while/break/continue</h4>"
   ]
  },
  {
   "cell_type": "code",
   "execution_count": null,
   "metadata": {
    "collapsed": true
   },
   "outputs": [],
   "source": [
    "#Encore le tableau des fréqences\n",
    "frequence = [0]*6\n",
    "i = 0\n",
    "while i < taille :\n",
    "    if liste[i] == 1 :\n",
    "        frequence[0] += 1\n",
    "    elif liste[i] == 2 :\n",
    "        frequence[1] += 1\n",
    "    elif liste[i] == 3 :\n",
    "        frequence[2] += 1\n",
    "    elif liste[i] == 4 :\n",
    "        frequence[3] += 1\n",
    "    elif liste[i] == 5 :\n",
    "        frequence[4] += 1\n",
    "    else :\n",
    "        frequence[5] += 1\n",
    "    i += 1\n",
    "print(\"--------- Tableau des fréquences----------\")\n",
    "print('{:10s}{:10s}'.format('Numéro', 'Fréquence en %'))\n",
    "for i in range(1,7) :\n",
    "    print(\"{:5d}{:15f}\".format(i, frequence[i-1]/taille))\n",
    "    "
   ]
  },
  {
   "cell_type": "code",
   "execution_count": null,
   "metadata": {
    "collapsed": true
   },
   "outputs": [],
   "source": [
    "#Et toujours le tableau des fréquences\n",
    "frequence = [0]*6\n",
    "for i in range(1,7) : \n",
    "    num = 0\n",
    "    while num < taille :\n",
    "        if liste[num] == i :\n",
    "            frequence[i-1] += 1\n",
    "        num += 1\n",
    "print(\"--------- Tableau des fréquences----------\")\n",
    "print('{:10s}{:10s}'.format('Numéro', 'Fréquence en %'))\n",
    "for i in range(1,7) :\n",
    "    print(\"{:5d}{:15f}\".format(i, frequence[i-1]/taille))"
   ]
  },
  {
   "cell_type": "code",
   "execution_count": null,
   "metadata": {
    "collapsed": true
   },
   "outputs": [],
   "source": [
    "#Un exemple d'utilisation de continuer ; Supprimer tous les 6 dans la liste\n",
    "liste = []\n",
    "for i in range(50) :\n",
    "    liste.append(randint(1,6))\n",
    "print(\"Taille de la liste avant suppression : {}\\n{}\".format(len(liste),liste))\n",
    "i = 0\n",
    "while i < len(liste) :\n",
    "    if liste[i] == 6 :\n",
    "        del liste[i]\n",
    "        #print(\"Compteur : \",i)\n",
    "        continue #On reprend la liste \n",
    "    i += 1\n",
    "print(\"Taille de la liste après suppression : {}\\n{}\".format(len(liste),liste))"
   ]
  },
  {
   "cell_type": "markdown",
   "metadata": {},
   "source": [
    "<span class =\"haut\"><a href = \"#sommaire\">Haut de page</a></span>"
   ]
  },
  {
   "cell_type": "markdown",
   "metadata": {
    "collapsed": true
   },
   "source": [
    "</div>\n",
    "<div id =\"partie3E\">\n",
    "<h3>E. Définition de fonctions</h3>"
   ]
  },
  {
   "cell_type": "code",
   "execution_count": null,
   "metadata": {
    "collapsed": true
   },
   "outputs": [],
   "source": [
    "#Définir une fonction polynôme du second degré et calculs d'images \n",
    "from sympy import*\n",
    "from python_lycee import*\n",
    "#Gestion de l'affichage dans la console IPython pour le rendu des symboles mathématiques\n",
    "init_printing(use_unicode = True, use_latex = True,backcolor = 'Blue',forecolor = 'Black')\n",
    "x = Symbol('x')\n",
    "def f(a=1):\n",
    "    f = x**2-4*x\n",
    "    y = f.subs(x,a)\n",
    "    return simplify(y)\n",
    "continuer = True\n",
    "while continuer :\n",
    "    antecedent = entrer_nombre()\n",
    "    if antecedent != 0 :\n",
    "        image = f(antecedent)\n",
    "        print(\"L'image de {} par f est {}\".format(antecedent, image))\n",
    "    else :\n",
    "        continuer = False"
   ]
  },
  {
   "cell_type": "code",
   "execution_count": null,
   "metadata": {
    "collapsed": true
   },
   "outputs": [],
   "source": [
    "image = []\n",
    "for i in range(0,10):\n",
    "    image.append(f(i))\n",
    "print('{:20s}{:20s}'.format('Antécédent', 'Image'))\n",
    "for i in range(10) :\n",
    "    print(i,image[i], type(image[i]),sep = ' '*20) #Formatage de l'affichage pour les objets Sympy à étudier"
   ]
  },
  {
   "cell_type": "code",
   "execution_count": null,
   "metadata": {
    "collapsed": true
   },
   "outputs": [],
   "source": [
    "float(image[1])"
   ]
  },
  {
   "cell_type": "code",
   "execution_count": null,
   "metadata": {
    "collapsed": true
   },
   "outputs": [],
   "source": [
    "print('{:15s}{:15s}'.format('Antécédent', 'Image'))\n",
    "for i in range(10) :\n",
    "    im = float(image[i])#Conversion des objets .numbers de Sympy en float pour le formatage de l'affichage\n",
    "    print('{:5d}{:12g}'.format(i,im))\n",
    "    "
   ]
  },
  {
   "cell_type": "markdown",
   "metadata": {},
   "source": [
    "<span class =\"haut\"><a href = \"#sommaire\">Haut de page</a></span>"
   ]
  },
  {
   "cell_type": "code",
   "execution_count": null,
   "metadata": {
    "collapsed": true
   },
   "outputs": [],
   "source": []
  }
 ],
 "metadata": {
  "kernelspec": {
   "display_name": "Python 3",
   "language": "python",
   "name": "python3"
  },
  "language_info": {
   "codemirror_mode": {
    "name": "ipython",
    "version": 3
   },
   "file_extension": ".py",
   "mimetype": "text/x-python",
   "name": "python",
   "nbconvert_exporter": "python",
   "pygments_lexer": "ipython3",
   "version": "3.6.3"
  },
  "widgets": {
   "application/vnd.jupyter.widget-state+json": {
    "state": {},
    "version_major": 1,
    "version_minor": 0
   }
  }
 },
 "nbformat": 4,
 "nbformat_minor": 2
}
